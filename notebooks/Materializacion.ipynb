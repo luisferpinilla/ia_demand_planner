{
 "cells": [
  {
   "cell_type": "markdown",
   "metadata": {},
   "source": [
    "# Notebook de prueba"
   ]
  },
  {
   "cell_type": "code",
   "execution_count": null,
   "metadata": {},
   "outputs": [],
   "source": [
    "import pandas as pd\n",
    "from prophet import Prophet\n",
    "import matplotlib.pyplot as plt"
   ]
  },
  {
   "cell_type": "code",
   "execution_count": 2,
   "metadata": {},
   "outputs": [],
   "source": [
    "file = '../data/ventas.csv'"
   ]
  },
  {
   "cell_type": "code",
   "execution_count": 4,
   "metadata": {},
   "outputs": [],
   "source": [
    "df = pd.read_csv(file)"
   ]
  },
  {
   "cell_type": "code",
   "execution_count": null,
   "metadata": {},
   "outputs": [],
   "source": [
    "df"
   ]
  },
  {
   "cell_type": "code",
   "execution_count": null,
   "metadata": {},
   "outputs": [],
   "source": [
    "import calendar\n",
    "\n",
    "def transformar_fecha(periodo):\n",
    "    # Convertir el periodo a string\n",
    "    periodo_str = str(periodo)\n",
    "    # Obtener el año y el mes\n",
    "    year = int(periodo_str[:4])\n",
    "    month = int(periodo_str[4:6])\n",
    "    # Obtener el último día del mes\n",
    "    last_day = calendar.monthrange(year, month)[1]\n",
    "    # Formatear la fecha como YYYY-MM-DD y convertir a datetime64\n",
    "    return pd.to_datetime(f\"{year}-{month:02d}-{last_day:02d}\")\n",
    "\n",
    "# Aplicar la función a la columna 'Fecha'\n",
    "df['Fecha2'] = df['Fecha'].apply(transformar_fecha)\n",
    "df"
   ]
  },
  {
   "cell_type": "code",
   "execution_count": 24,
   "metadata": {},
   "outputs": [],
   "source": [
    "df['Producto_cliente'] = df['CodigoProducto'] + \"_\" + df['CodigoCliente']"
   ]
  },
  {
   "cell_type": "code",
   "execution_count": 25,
   "metadata": {},
   "outputs": [],
   "source": [
    "tabla_df = df.pivot_table(index='Fecha2', columns='Producto_cliente', values='CantidadVendida', aggfunc='sum').reset_index()"
   ]
  },
  {
   "cell_type": "code",
   "execution_count": null,
   "metadata": {},
   "outputs": [],
   "source": [
    "tabla_df.tail()"
   ]
  },
  {
   "cell_type": "code",
   "execution_count": 10,
   "metadata": {},
   "outputs": [],
   "source": [
    "def generar_pronostico(df:pd.DataFrame, sales_column:str, periods_column:str, cant_periodos:int):\n",
    "    # Preparar los datos para Prophet\n",
    "    df_prophet = df[[periods_column, sales_column]].rename(columns={periods_column: 'ds', sales_column: 'y'})\n",
    "    \n",
    "    # Crear y ajustar el modelo\n",
    "    modelo = Prophet()\n",
    "    modelo.fit(df_prophet)\n",
    "    \n",
    "    # Crear un dataframe con las fechas futuras\n",
    "    futuro = modelo.make_future_dataframe(periods=cant_periodos, freq='M')\n",
    "    \n",
    "    # Generar el pronóstico\n",
    "    pronostico = modelo.predict(futuro)\n",
    "    \n",
    "    return pronostico"
   ]
  },
  {
   "cell_type": "code",
   "execution_count": null,
   "metadata": {},
   "outputs": [],
   "source": [
    "# Generar un pronóstico para los próximos 12 meses\n",
    "pronostico = generar_pronostico(df=tabla_df, sales_column = 'P001_C001', periods_column='Fecha2' , cant_periodos=36)\n"
   ]
  },
  {
   "cell_type": "code",
   "execution_count": null,
   "metadata": {},
   "outputs": [],
   "source": [
    "pronostico.columns"
   ]
  },
  {
   "cell_type": "code",
   "execution_count": null,
   "metadata": {},
   "outputs": [],
   "source": [
    "pronostico.plot(x='ds', y='yhat', label='Pronóstico', color='green', figsize=(15, 5))\n",
    "plt.fill_between(pronostico['ds'], pronostico['yhat_lower'], pronostico['yhat_upper'], color='gray', alpha=0.3)\n",
    "# pronostico.plot(x='ds', y='yhat_lower', label='Límite inferior', color='gray', ax=plt.gca())\n",
    "# pronostico.plot(x='ds', y='yhat_upper', label='Límite superior', color='gray', ax=plt.gca())\n",
    "tabla_df.plot(x='Fecha2', y='P001_C001', label='Histórico', color='black', ax=plt.gca())"
   ]
  },
  {
   "cell_type": "code",
   "execution_count": null,
   "metadata": {},
   "outputs": [],
   "source": [
    "pronostico[['ds', 'yhat', 'yhat_lower', 'yhat_upper']]"
   ]
  },
  {
   "cell_type": "code",
   "execution_count": null,
   "metadata": {},
   "outputs": [],
   "source": []
  }
 ],
 "metadata": {
  "kernelspec": {
   "display_name": "env",
   "language": "python",
   "name": "python3"
  },
  "language_info": {
   "codemirror_mode": {
    "name": "ipython",
    "version": 3
   },
   "file_extension": ".py",
   "mimetype": "text/x-python",
   "name": "python",
   "nbconvert_exporter": "python",
   "pygments_lexer": "ipython3",
   "version": "3.12.3"
  }
 },
 "nbformat": 4,
 "nbformat_minor": 2
}
